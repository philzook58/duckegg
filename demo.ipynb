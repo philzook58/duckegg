{
 "cells": [
  {
   "cell_type": "code",
   "execution_count": 1,
   "id": "de6f6f40",
   "metadata": {
    "collapsed": true
   },
   "outputs": [
    {
     "name": "stdout",
     "output_type": "stream",
     "text": [
      "Defaulting to user installation because normal site-packages is not writeable\n",
      "Requirement already satisfied: duckdb in /home/philip/.local/lib/python3.10/site-packages (0.5.1)\n",
      "Requirement already satisfied: numpy>=1.14 in /usr/lib/python3/dist-packages (from duckdb) (1.21.5)\n"
     ]
    }
   ],
   "source": [
    "!pip install duckdb\n",
    "import requests\n",
    "url = 'https://raw.githubusercontent.com/philzook58/duckegg/main/duckegg.py'\n",
    "r = requests.get(url, allow_redirects=True)\n",
    "open('duckegg.py', 'wb').write(r.content)"
   ]
  },
  {
   "cell_type": "code",
   "execution_count": 4,
   "id": "06196c26",
   "metadata": {
    "collapsed": true
   },
   "outputs": [
    {
     "name": "stdout",
     "output_type": "stream",
     "text": [
      "Iter 0, 10 ENodes\n",
      "Iter 1, 140 ENodes\n",
      "Iter 2, 3942 ENodes\n",
      "Iter 3, 151036 ENodes\n",
      "Iter 4, 173052 ENodes\n",
      "Iter 5, 173052 ENodes\n",
      "Iter 6, 173052 ENodes\n",
      "Iter 7, 173052 ENodes\n",
      "Iter 8, 173052 ENodes\n",
      "Iter 9, 173052 ENodes\n",
      "Expected size: 173052\n"
     ]
    }
   ],
   "source": [
    "from duckegg import *\n",
    "x, y, z, w = Vars(\"x y z w\")\n",
    "s = Solver()\n",
    "plus = s.Relation(\"plus\", 3)\n",
    "plusf = s.Function(\"plus\", 2)\n",
    "\n",
    "s.add(Clause(plus(x, y, z), [plus(y, x, z)]))\n",
    "\n",
    "N = 11\n",
    "for k in range(1, N):\n",
    "    s.add(plus(-2*k, -2*k-1, -2*k-2))\n",
    "s.add(Clause(plus(plusf(x, y), z, w), [plus(x, plusf(y, z), w)]))\n",
    "s.add(Clause(plus(x, plusf(y, z), w), [plus(plusf(x, y), z, w)]))\n",
    "s.solve()\n",
    "print(f\"Expected size: {3**N - 2**(N+1) + 1}\")"
   ]
  }
 ],
 "metadata": {
  "kernelspec": {
   "display_name": "Python 3 (ipykernel)",
   "language": "python",
   "name": "python3"
  },
  "language_info": {
   "codemirror_mode": {
    "name": "ipython",
    "version": 3
   },
   "file_extension": ".py",
   "mimetype": "text/x-python",
   "name": "python",
   "nbconvert_exporter": "python",
   "pygments_lexer": "ipython3",
   "version": "3.10.6"
  }
 },
 "nbformat": 4,
 "nbformat_minor": 5
}
